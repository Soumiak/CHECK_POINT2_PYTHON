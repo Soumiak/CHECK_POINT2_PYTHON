{
 "cells": [
  {
   "cell_type": "markdown",
   "id": "9bcb8ebd",
   "metadata": {},
   "source": [
    "# QUESTION1:"
   ]
  },
  {
   "cell_type": "code",
   "execution_count": 9,
   "id": "12f42065",
   "metadata": {},
   "outputs": [
    {
     "name": "stdout",
     "output_type": "stream",
     "text": [
      "[2002, 2009, 2016, 2023, 2037, 2044, 2051, 2058, 2072, 2079, 2086, 2093, 2107, 2114, 2121, 2128, 2142, 2149, 2156, 2163, 2177, 2184, 2191, 2198, 2212, 2219, 2226, 2233, 2247, 2254, 2261, 2268, 2282, 2289, 2296, 2303, 2317, 2324, 2331, 2338, 2352, 2359, 2366, 2373, 2387, 2394, 2401, 2408, 2422, 2429, 2436, 2443, 2457, 2464, 2471, 2478, 2492, 2499, 2506, 2513, 2527, 2534, 2541, 2548, 2562, 2569, 2576, 2583, 2597, 2604, 2611, 2618, 2632, 2639, 2646, 2653, 2667, 2674, 2681, 2688, 2702, 2709, 2716, 2723, 2737, 2744, 2751, 2758, 2772, 2779, 2786, 2793, 2807, 2814, 2821, 2828, 2842, 2849, 2856, 2863, 2877, 2884, 2891, 2898, 2912, 2919, 2926, 2933, 2947, 2954, 2961, 2968, 2982, 2989, 2996, 3003, 3017, 3024, 3031, 3038, 3052, 3059, 3066, 3073, 3087, 3094, 3101, 3108, 3122, 3129, 3136, 3143, 3157, 3164, 3171, 3178, 3192, 3199]\n"
     ]
    }
   ],
   "source": [
    "mylist=[]\n",
    "for i in range (2000,3200):\n",
    "    if (i % 7==0) and (i % 5) > 0 :\n",
    "      mylist.append(i)\n",
    "    \n",
    "print(mylist)"
   ]
  },
  {
   "cell_type": "markdown",
   "id": "a5c90e28",
   "metadata": {},
   "source": [
    "# QUESTION2:"
   ]
  },
  {
   "cell_type": "code",
   "execution_count": 25,
   "id": "c037f73e",
   "metadata": {},
   "outputs": [],
   "source": [
    "def fact(x):\n",
    "    f=1\n",
    "    for i in range(1,x+1) :\n",
    "        f=f*i\n",
    "    return f "
   ]
  },
  {
   "cell_type": "code",
   "execution_count": 28,
   "id": "2a6ee8dc",
   "metadata": {},
   "outputs": [
    {
     "name": "stdout",
     "output_type": "stream",
     "text": [
      "120\n"
     ]
    }
   ],
   "source": [
    "# test \n",
    "factoriel=fact(5)\n",
    "print (factoriel)"
   ]
  },
  {
   "cell_type": "markdown",
   "id": "bc13b70e",
   "metadata": {},
   "source": [
    "# QUESTION3"
   ]
  },
  {
   "cell_type": "code",
   "execution_count": 30,
   "id": "a1d49085",
   "metadata": {},
   "outputs": [],
   "source": [
    "def new_dict (x) :\n",
    "    dict={}\n",
    "    for i in range(x):\n",
    "        dict[i]=i*i\n",
    "    return dict\n",
    "      "
   ]
  },
  {
   "cell_type": "code",
   "execution_count": 31,
   "id": "8a9e5142",
   "metadata": {},
   "outputs": [
    {
     "data": {
      "text/plain": [
       "{0: 0, 1: 1, 2: 4}"
      ]
     },
     "execution_count": 31,
     "metadata": {},
     "output_type": "execute_result"
    }
   ],
   "source": [
    "new_dict (3)"
   ]
  },
  {
   "cell_type": "code",
   "execution_count": 32,
   "id": "a1722edd",
   "metadata": {},
   "outputs": [
    {
     "data": {
      "text/plain": [
       "{0: 0, 1: 1, 2: 4, 3: 9, 4: 16, 5: 25, 6: 36, 7: 49, 8: 64, 9: 81}"
      ]
     },
     "execution_count": 32,
     "metadata": {},
     "output_type": "execute_result"
    }
   ],
   "source": [
    "new_dict(10)"
   ]
  },
  {
   "cell_type": "markdown",
   "id": "e48c90e7",
   "metadata": {},
   "source": [
    "# QUESTION4 "
   ]
  },
  {
   "cell_type": "code",
   "execution_count": 39,
   "id": "bf4fd485",
   "metadata": {},
   "outputs": [],
   "source": [
    "def missing_char (str , i): \n",
    "    new_str=\"\"\n",
    "    if i in range(len(str)):\n",
    "     new_str=str.replace(str[i],\"\")\n",
    "     return new_str"
   ]
  },
  {
   "cell_type": "code",
   "execution_count": 41,
   "id": "2ffe09df",
   "metadata": {},
   "outputs": [
    {
     "data": {
      "text/plain": [
       "'somia'"
      ]
     },
     "execution_count": 41,
     "metadata": {},
     "output_type": "execute_result"
    }
   ],
   "source": [
    "# test\n",
    "missing_char (\"soumia\" ,2)\n"
   ]
  },
  {
   "cell_type": "markdown",
   "id": "61e18ab9",
   "metadata": {},
   "source": [
    "# QUESTION5"
   ]
  },
  {
   "cell_type": "code",
   "execution_count": 51,
   "id": "7971a232",
   "metadata": {},
   "outputs": [
    {
     "name": "stdout",
     "output_type": "stream",
     "text": [
      "[[1 2 3]\n",
      " [4 5 6]\n",
      " [7 8 9]]\n",
      "[[1, 2, 3], [4, 5, 6], [7, 8, 9]]\n"
     ]
    }
   ],
   "source": [
    "import numpy as np \n",
    "new_array=np.array ([[1,2,3],[4,5,6],[7,8,9]]) \n",
    "print (new_array)\n",
    "list1=new_array.tolist()\n",
    "print (list1) \n",
    "    \n"
   ]
  },
  {
   "cell_type": "markdown",
   "id": "f6b7a058",
   "metadata": {},
   "source": [
    "# QUESTION6"
   ]
  },
  {
   "cell_type": "code",
   "execution_count": 60,
   "id": "8e9913b3",
   "metadata": {},
   "outputs": [],
   "source": [
    "a= np.array ([[1,2,3],[4,5,6],[7,8,9]]) \n",
    "b= np.array ([[9,10,11],[6,20,12],[0,3,9]])\n",
    "cov=np.cov(a,b)"
   ]
  },
  {
   "cell_type": "code",
   "execution_count": 61,
   "id": "794918b1",
   "metadata": {},
   "outputs": [
    {
     "name": "stdout",
     "output_type": "stream",
     "text": [
      "[[ 1.          1.          1.          1.          3.          4.5       ]\n",
      " [ 1.          1.          1.          1.          3.          4.5       ]\n",
      " [ 1.          1.          1.          1.          3.          4.5       ]\n",
      " [ 1.          1.          1.          1.          3.          4.5       ]\n",
      " [ 3.          3.          3.          3.         49.33333333  8.        ]\n",
      " [ 4.5         4.5         4.5         4.5         8.         21.        ]]\n"
     ]
    }
   ],
   "source": [
    "print(cov)"
   ]
  },
  {
   "cell_type": "markdown",
   "id": "a3f7c610",
   "metadata": {},
   "source": [
    "# QUESTION7"
   ]
  },
  {
   "cell_type": "code",
   "execution_count": null,
   "id": "e0aa3208",
   "metadata": {},
   "outputs": [],
   "source": [
    "import math \n",
    "\n",
    "def formula (D):\n",
    "    H=30\n",
    "    C=50\n",
    "    list1=list(D.split(\",\"))\n",
    "    int_list = list(map(int, list1))\n",
    "    print(int_list)\n",
    "    print(type(int_list))\n",
    "    l=len(int_list)\n",
    "    print(l)\n",
    "    j=0\n",
    "    while j < (len(int_list)) :\n",
    "        int_list[j]=math.sqrt((2* C * int_list[j]/H))\n",
    "        print(\"Q\",j,\"=\",round(int_list[j]))\n",
    "        j+=1\n"
   ]
  },
  {
   "cell_type": "code",
   "execution_count": null,
   "id": "fe899d8e",
   "metadata": {},
   "outputs": [],
   "source": []
  }
 ],
 "metadata": {
  "kernelspec": {
   "display_name": "Python 3 (ipykernel)",
   "language": "python",
   "name": "python3"
  },
  "language_info": {
   "codemirror_mode": {
    "name": "ipython",
    "version": 3
   },
   "file_extension": ".py",
   "mimetype": "text/x-python",
   "name": "python",
   "nbconvert_exporter": "python",
   "pygments_lexer": "ipython3",
   "version": "3.9.12"
  }
 },
 "nbformat": 4,
 "nbformat_minor": 5
}
